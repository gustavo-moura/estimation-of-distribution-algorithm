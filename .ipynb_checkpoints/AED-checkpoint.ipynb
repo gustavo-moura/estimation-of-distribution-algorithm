{
 "cells": [
  {
   "cell_type": "code",
   "execution_count": 1,
   "id": "b7d75039-fe9b-401c-92a9-08c42c8984b6",
   "metadata": {},
   "outputs": [],
   "source": [
    "import xml.etree.ElementTree as ET\n",
    "import numpy as np"
   ]
  },
  {
   "cell_type": "code",
   "execution_count": 2,
   "id": "9952009e-d0ad-4ad6-bbf5-c34f7f2e4912",
   "metadata": {},
   "outputs": [],
   "source": [
    "def parse_xml(xml_file):\n",
    "    tree = ET.parse(xml_file)\n",
    "    root = tree.getroot()\n",
    "\n",
    "    width = int(root.attrib['width'])\n",
    "    height = int(root.attrib['height'])\n",
    "\n",
    "    # Initialize an empty matrix\n",
    "    matrix = np.zeros((height, width), dtype=int)\n",
    "\n",
    "    # Process terrain\n",
    "    terrain_data = root.find('terrain').text\n",
    "    for i in range(height):\n",
    "        for j in range(width):\n",
    "            matrix[i, j] = int(terrain_data[i * width + j])\n",
    "\n",
    "    # Process units\n",
    "    units = root.find('units')\n",
    "    for unit in units.iter('Unit'):\n",
    "        unit_type = unit.attrib['type']\n",
    "        player = int(unit.attrib['player'])\n",
    "        x = int(unit.attrib['x'])\n",
    "        y = int(unit.attrib['y'])\n",
    "\n",
    "        if unit_type == 'Base':\n",
    "            matrix[y, x] = player + 2  # Player bases represented by player + 2\n",
    "        elif unit_type == 'Resource':\n",
    "            matrix[y, x] = -1  # Resource tiles represented by -1\n",
    "        elif unit_type == 'Worker':\n",
    "            matrix[y, x] = player + 4  # Already built workers represented by player + 4\n",
    "\n",
    "    return matrix"
   ]
  },
  {
   "cell_type": "code",
   "execution_count": 3,
   "id": "2d37fe0f-3945-4dc6-a9e0-cbc61befcf6a",
   "metadata": {},
   "outputs": [
    {
     "name": "stdout",
     "output_type": "stream",
     "text": [
      "[[0 0 0 0]\n",
      " [0 0 0 0]\n",
      " [0 0 0 0]\n",
      " [0 0 0 0]]\n"
     ]
    }
   ],
   "source": [
    "xml_file = \"/Users/gustavo/Repos/MicroRTS-Py/gym_microrts/microrts/maps/4x4/base4x4.xml\"\n",
    "matrix = parse_xml(xml_file)\n",
    "print(matrix)"
   ]
  },
  {
   "cell_type": "code",
   "execution_count": null,
   "id": "942a2278-8b9d-4e80-bcb8-9f596410d2a9",
   "metadata": {},
   "outputs": [],
   "source": []
  }
 ],
 "metadata": {
  "kernelspec": {
   "display_name": "Python 3 (ipykernel)",
   "language": "python",
   "name": "python3"
  },
  "language_info": {
   "codemirror_mode": {
    "name": "ipython",
    "version": 3
   },
   "file_extension": ".py",
   "mimetype": "text/x-python",
   "name": "python",
   "nbconvert_exporter": "python",
   "pygments_lexer": "ipython3",
   "version": "3.9.16"
  }
 },
 "nbformat": 4,
 "nbformat_minor": 5
}
